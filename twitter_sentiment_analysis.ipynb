{
 "cells": [
  {
   "cell_type": "code",
   "execution_count": 1,
   "metadata": {},
   "outputs": [],
   "source": [
    "# Dependencies\n",
    "import tweepy\n",
    "import twitter_service as ts\n",
    "from collections import defaultdict\n",
    "from config import consumer_key, consumer_secret, access_token, access_token_secret\n",
    "\n",
    "# Import and Initialize Sentiment Analyzer\n",
    "from vaderSentiment.vaderSentiment import SentimentIntensityAnalyzer\n",
    "analyzer = SentimentIntensityAnalyzer()"
   ]
  },
  {
   "cell_type": "code",
   "execution_count": 2,
   "metadata": {},
   "outputs": [],
   "source": [
    "# Twitter API Keys\n",
    "consumer_key = consumer_key\n",
    "consumer_secret = consumer_secret\n",
    "access_token = access_token\n",
    "access_token_secret = access_token_secret\n"
   ]
  },
  {
   "cell_type": "code",
   "execution_count": 9,
   "metadata": {},
   "outputs": [],
   "source": [
    "def main():\n",
    "    # Counter\n",
    "    #counter = 1\n",
    "\n",
    "    # Variables for holding sentiments\n",
    "    sentiments = defaultdict(list)\n",
    "\n",
    "    # Variable for max_id\n",
    "    oldest_tweet = None\n",
    "    \n",
    "    api = ts.setup_connection(consumer_key, consumer_secret, access_token, access_token_secret)\n",
    "    public_tweets = ts.grab_tweets(api, '@CNN', 100)\n",
    "    for index, tweet in enumerate(public_tweets):\n",
    "        # Run Vader Analysis on each tweet\n",
    "        results = analyze_tweets(tweet)\n",
    "        sentiments[\"Handle\"].append(tweet[\"user\"][\"screen_name\"])\n",
    "        sentiments[\"Date\"].append(tweet[\"created_at\"])\n",
    "        sentiments[\"Compound\"].append(results[\"compound\"])\n",
    "        sentiments[\"Positive\"].append(results[\"pos\"])\n",
    "        sentiments[\"Neutral\"].append(results[\"neu\"])\n",
    "        sentiments[\"Negative\"].append(results[\"neg\"])\n",
    "        sentiments[\"Tweets Ago\"].append(index + 1)\n",
    "        sentiments[\"Tweet Text\"].append(tweet[\"text\"])\n",
    "    print(sentiments)"
   ]
  },
  {
   "cell_type": "code",
   "execution_count": 11,
   "metadata": {},
   "outputs": [],
   "source": [
    "def analyze_tweets(tweet):\n",
    "    # Run Vader Analysis on each tweet\n",
    "    return analyzer.polarity_scores(tweet[\"text\"])\n",
    "        "
   ]
  },
  {
   "cell_type": "code",
   "execution_count": 12,
   "metadata": {},
   "outputs": [
    {
     "name": "stdout",
     "output_type": "stream",
     "text": [
      "setting up connection...\n",
      "grabbing your tweets...\n",
      "defaultdict(<class 'list'>, {'Handle': ['CNN', 'CNN', 'CNN', 'CNN', 'CNN', 'CNN', 'CNN', 'CNN', 'CNN', 'CNN', 'CNN', 'CNN', 'CNN', 'CNN', 'CNN', 'CNN', 'CNN', 'CNN', 'CNN', 'CNN', 'CNN', 'CNN', 'CNN', 'CNN', 'CNN', 'CNN', 'CNN', 'CNN', 'CNN', 'CNN', 'CNN', 'CNN', 'CNN', 'CNN', 'CNN', 'CNN', 'CNN', 'CNN', 'CNN', 'CNN', 'CNN', 'CNN', 'CNN', 'CNN', 'CNN', 'CNN', 'CNN', 'CNN', 'CNN', 'CNN', 'CNN', 'CNN', 'CNN', 'CNN', 'CNN', 'CNN', 'CNN', 'CNN', 'CNN', 'CNN', 'CNN', 'CNN', 'CNN', 'CNN', 'CNN', 'CNN', 'CNN', 'CNN', 'CNN', 'CNN', 'CNN', 'CNN', 'CNN', 'CNN', 'CNN', 'CNN', 'CNN', 'CNN', 'CNN', 'CNN', 'CNN', 'CNN', 'CNN', 'CNN', 'CNN', 'CNN', 'CNN', 'CNN', 'CNN', 'CNN', 'CNN', 'CNN', 'CNN', 'CNN', 'CNN', 'CNN', 'CNN', 'CNN', 'CNN', 'CNN'], 'Date': ['Mon Apr 23 03:00:22 +0000 2018', 'Mon Apr 23 02:30:05 +0000 2018', 'Mon Apr 23 02:00:14 +0000 2018', 'Mon Apr 23 01:45:07 +0000 2018', 'Mon Apr 23 01:30:09 +0000 2018', 'Mon Apr 23 01:15:32 +0000 2018', 'Mon Apr 23 01:00:11 +0000 2018', 'Mon Apr 23 00:45:07 +0000 2018', 'Mon Apr 23 00:30:19 +0000 2018', 'Mon Apr 23 00:15:05 +0000 2018', 'Mon Apr 23 00:00:07 +0000 2018', 'Sun Apr 22 23:45:08 +0000 2018', 'Sun Apr 22 23:30:09 +0000 2018', 'Sun Apr 22 23:15:04 +0000 2018', 'Sun Apr 22 23:00:12 +0000 2018', 'Sun Apr 22 22:45:05 +0000 2018', 'Sun Apr 22 22:30:07 +0000 2018', 'Sun Apr 22 22:15:09 +0000 2018', 'Sun Apr 22 22:00:07 +0000 2018', 'Sun Apr 22 21:45:08 +0000 2018', 'Sun Apr 22 21:30:13 +0000 2018', 'Sun Apr 22 21:15:09 +0000 2018', 'Sun Apr 22 21:00:09 +0000 2018', 'Sun Apr 22 20:45:05 +0000 2018', 'Sun Apr 22 20:30:13 +0000 2018', 'Sun Apr 22 20:15:04 +0000 2018', 'Sun Apr 22 20:00:09 +0000 2018', 'Sun Apr 22 19:52:34 +0000 2018', 'Sun Apr 22 19:45:03 +0000 2018', 'Sun Apr 22 19:30:09 +0000 2018', 'Sun Apr 22 19:16:16 +0000 2018', 'Sun Apr 22 19:00:12 +0000 2018', 'Sun Apr 22 18:45:07 +0000 2018', 'Sun Apr 22 18:30:12 +0000 2018', 'Sun Apr 22 18:16:23 +0000 2018', 'Sun Apr 22 18:00:07 +0000 2018', 'Sun Apr 22 17:45:04 +0000 2018', 'Sun Apr 22 17:30:04 +0000 2018', 'Sun Apr 22 17:16:03 +0000 2018', 'Sun Apr 22 17:00:12 +0000 2018', 'Sun Apr 22 16:45:06 +0000 2018', 'Sun Apr 22 16:30:08 +0000 2018', 'Sun Apr 22 16:15:03 +0000 2018', 'Sun Apr 22 16:00:09 +0000 2018', 'Sun Apr 22 15:45:06 +0000 2018', 'Sun Apr 22 15:30:29 +0000 2018', 'Sun Apr 22 15:20:25 +0000 2018', 'Sun Apr 22 15:00:19 +0000 2018', 'Sun Apr 22 14:50:13 +0000 2018', 'Sun Apr 22 14:30:08 +0000 2018', 'Sun Apr 22 14:01:02 +0000 2018', 'Sun Apr 22 13:42:57 +0000 2018', 'Sun Apr 22 13:34:51 +0000 2018', 'Sun Apr 22 13:30:02 +0000 2018', 'Sun Apr 22 13:30:02 +0000 2018', 'Sun Apr 22 13:27:18 +0000 2018', 'Sun Apr 22 13:07:00 +0000 2018', 'Sun Apr 22 13:01:05 +0000 2018', 'Sun Apr 22 12:30:06 +0000 2018', 'Sun Apr 22 12:01:06 +0000 2018', 'Sun Apr 22 11:30:36 +0000 2018', 'Sun Apr 22 11:01:02 +0000 2018', 'Sun Apr 22 10:56:37 +0000 2018', 'Sun Apr 22 10:30:06 +0000 2018', 'Sun Apr 22 10:01:08 +0000 2018', 'Sun Apr 22 09:31:07 +0000 2018', 'Sun Apr 22 09:01:03 +0000 2018', 'Sun Apr 22 08:35:54 +0000 2018', 'Sun Apr 22 08:31:00 +0000 2018', 'Sun Apr 22 08:30:25 +0000 2018', 'Sun Apr 22 08:01:02 +0000 2018', 'Sun Apr 22 07:41:01 +0000 2018', 'Sun Apr 22 07:31:00 +0000 2018', 'Sun Apr 22 07:30:07 +0000 2018', 'Sun Apr 22 07:01:04 +0000 2018', 'Sun Apr 22 06:31:01 +0000 2018', 'Sun Apr 22 06:01:05 +0000 2018', 'Sun Apr 22 05:31:06 +0000 2018', 'Sun Apr 22 05:01:04 +0000 2018', 'Sun Apr 22 04:31:02 +0000 2018', 'Sun Apr 22 04:01:07 +0000 2018', 'Sun Apr 22 03:30:12 +0000 2018', 'Sun Apr 22 03:00:06 +0000 2018', 'Sun Apr 22 02:30:07 +0000 2018', 'Sun Apr 22 02:00:11 +0000 2018', 'Sun Apr 22 01:30:09 +0000 2018', 'Sun Apr 22 01:00:10 +0000 2018', 'Sun Apr 22 00:30:03 +0000 2018', 'Sun Apr 22 00:22:04 +0000 2018', 'Sun Apr 22 00:00:04 +0000 2018', 'Sat Apr 21 23:52:02 +0000 2018', 'Sat Apr 21 23:40:06 +0000 2018', 'Sat Apr 21 23:36:00 +0000 2018', 'Sat Apr 21 23:30:12 +0000 2018', 'Sat Apr 21 23:21:36 +0000 2018', 'Sat Apr 21 23:00:47 +0000 2018', 'Sat Apr 21 22:30:09 +0000 2018', 'Sat Apr 21 22:00:57 +0000 2018', 'Sat Apr 21 21:46:23 +0000 2018', 'Sat Apr 21 21:45:04 +0000 2018'], 'Compound': [-0.1027, 0.0, -0.5267, 0.0, 0.0772, 0.0, 0.0, 0.1531, -0.296, -0.34, -0.5719, 0.0258, 0.3182, 0.2023, 0.0, -0.25, 0.2023, 0.0, 0.2023, 0.0, -0.5994, -0.4767, 0.0, 0.6369, 0.0, 0.4404, 0.0, 0.7935, -0.6908, 0.0, 0.7003, -0.1027, 0.296, 0.0, -0.4404, -0.1779, 0.0, -0.6486, 0.4391, 0.5106, -0.4588, 0.3182, 0.0, 0.5719, -0.7579, -0.1027, 0.0, 0.0, -0.5423, 0.7906, -0.6908, 0.4404, -0.8316, -0.5859, 0.5719, 0.34, 0.0, 0.296, -0.3612, 0.3182, -0.6486, -0.2732, -0.6705, 0.34, 0.0, 0.0, 0.9451, -0.875, -0.34, 0.0, 0.0, -0.7964, 0.0772, 0.0, 0.3818, -0.0516, 0.0, -0.4404, 0.0, 0.296, 0.4468, 0.4939, -0.5574, -0.5423, 0.0, -0.8225, -0.5994, 0.3182, -0.1548, 0.0, -0.6249, 0.5267, 0.0, -0.765, -0.3182, 0.0, 0.0, 0.0, 0.0, -0.6124], 'Positive': [0.0, 0.0, 0.0, 0.0, 0.139, 0.0, 0.0, 0.235, 0.0, 0.0, 0.0, 0.121, 0.173, 0.122, 0.0, 0.173, 0.114, 0.0, 0.107, 0.0, 0.0, 0.0, 0.0, 0.198, 0.0, 0.162, 0.0, 0.235, 0.0, 0.0, 0.244, 0.148, 0.115, 0.0, 0.087, 0.154, 0.0, 0.0, 0.138, 0.191, 0.0, 0.15, 0.0, 0.37, 0.0, 0.0, 0.0, 0.0, 0.0, 0.364, 0.0, 0.139, 0.0, 0.129, 0.316, 0.112, 0.0, 0.167, 0.0, 0.119, 0.0, 0.0, 0.0, 0.226, 0.0, 0.0, 0.472, 0.0, 0.0, 0.0, 0.0, 0.0, 0.058, 0.0, 0.118, 0.167, 0.0, 0.0, 0.0, 0.136, 0.221, 0.262, 0.0, 0.0, 0.0, 0.0, 0.0, 0.204, 0.121, 0.0, 0.0, 0.145, 0.0, 0.0, 0.103, 0.0, 0.0, 0.0, 0.0, 0.0], 'Neutral': [0.903, 1.0, 0.815, 1.0, 0.733, 1.0, 1.0, 0.588, 0.879, 0.821, 0.598, 0.879, 0.827, 0.878, 1.0, 0.595, 0.886, 1.0, 0.893, 1.0, 0.769, 0.829, 1.0, 0.802, 1.0, 0.838, 1.0, 0.765, 0.847, 1.0, 0.756, 0.679, 0.885, 1.0, 0.751, 0.651, 1.0, 0.725, 0.862, 0.809, 0.87, 0.85, 1.0, 0.63, 0.606, 0.931, 1.0, 1.0, 0.844, 0.636, 0.783, 0.861, 0.683, 0.538, 0.684, 0.888, 1.0, 0.833, 0.878, 0.881, 0.83, 0.909, 0.791, 0.639, 1.0, 1.0, 0.528, 0.667, 0.888, 1.0, 1.0, 0.647, 0.942, 1.0, 0.827, 0.655, 1.0, 0.861, 1.0, 0.864, 0.676, 0.738, 0.753, 0.8, 1.0, 0.542, 0.741, 0.796, 0.735, 1.0, 0.814, 0.855, 1.0, 0.548, 0.7, 1.0, 1.0, 1.0, 1.0, 0.688], 'Negative': [0.097, 0.0, 0.185, 0.0, 0.128, 0.0, 0.0, 0.176, 0.121, 0.179, 0.402, 0.0, 0.0, 0.0, 0.0, 0.232, 0.0, 0.0, 0.0, 0.0, 0.231, 0.171, 0.0, 0.0, 0.0, 0.0, 0.0, 0.0, 0.153, 0.0, 0.0, 0.173, 0.0, 0.0, 0.162, 0.195, 0.0, 0.275, 0.0, 0.0, 0.13, 0.0, 0.0, 0.0, 0.394, 0.069, 0.0, 0.0, 0.156, 0.0, 0.217, 0.0, 0.317, 0.333, 0.0, 0.0, 0.0, 0.0, 0.122, 0.0, 0.17, 0.091, 0.209, 0.135, 0.0, 0.0, 0.0, 0.333, 0.112, 0.0, 0.0, 0.353, 0.0, 0.0, 0.055, 0.179, 0.0, 0.139, 0.0, 0.0, 0.102, 0.0, 0.247, 0.2, 0.0, 0.458, 0.259, 0.0, 0.143, 0.0, 0.186, 0.0, 0.0, 0.452, 0.198, 0.0, 0.0, 0.0, 0.0, 0.312], 'Tweets Ago': [1, 2, 3, 4, 5, 6, 7, 8, 9, 10, 11, 12, 13, 14, 15, 16, 17, 18, 19, 20, 21, 22, 23, 24, 25, 26, 27, 28, 29, 30, 31, 32, 33, 34, 35, 36, 37, 38, 39, 40, 41, 42, 43, 44, 45, 46, 47, 48, 49, 50, 51, 52, 53, 54, 55, 56, 57, 58, 59, 60, 61, 62, 63, 64, 65, 66, 67, 68, 69, 70, 71, 72, 73, 74, 75, 76, 77, 78, 79, 80, 81, 82, 83, 84, 85, 86, 87, 88, 89, 90, 91, 92, 93, 94, 95, 96, 97, 98, 99, 100], 'Tweet Text': ['4 presidents come together to pay tribute to former first lady Barbara Bush https://t.co/AvwjHytVLw https://t.co/nOmTdl0S5N', \"Bill Cosby's trial pushes to its finale after a newsworthy two weeks https://t.co/mNuYD8KU6g https://t.co/TEB68FalDW\", '22 minutes of terror: How passengers, pilots kept crippled Southwest Flight 1380 from turning deadlier… https://t.co/UzOiS8tpt0', \"Transforming a desert into India's new tech hub https://t.co/CFqlK9cWE2 https://t.co/HYa7aqIOB3\", \"Rep. Jim Clyburn says if Democrats fail to win enough seats this November to take the House majority, the party's w… https://t.co/960RzfGMjJ\", \"French President Emmanuel Macron's bromance with President Trump will come at a price, writes Samantha Vinograd for… https://t.co/NVBp4N1Hx6\", 'Why North Korean leader Kim Jong Un came in from the cold https://t.co/aId2tmK0zY https://t.co/aUPHkIr5WD', 'Nicaragua scraps controversial social security reforms https://t.co/S6HT4mpwv4 https://t.co/kjFmXCOl9y', '“Some people might try to tell you that there’s no point in looking for it.” #FactsFirst https://t.co/LZIb2MHdoC', 'Nashville mayor demands stricter gun control after Waffle House shooting https://t.co/0RSYu7C2CA https://t.co/Gl7P1Kpjuv', 'Armenian protest leader detained amid mass demonstrations https://t.co/cb4HbVy9Zl https://t.co/0AJvXwUPYD', 'Mexico and EU reach new trade deal https://t.co/a9XXUGe2OS https://t.co/3R0Mf8wdR6', 'Who was Jack Johnson, the boxer President Trump may pardon? https://t.co/wMEG2GSbXJ https://t.co/KkQ6zMCmxS', '\"It\\'s important for democracy.\" Denver\\'s mayor sticks up for its local paper https://t.co/Hg8cHVyJ4O https://t.co/2BOdWep6bT', 'How major companies handle — and botch — public relations crises https://t.co/XUMeViqXnB https://t.co/8nCZFTE8Be', 'Summit offers last hope for families divided by Korean War https://t.co/u7VXGIYZNb https://t.co/DJA0NPsMol', 'CIA agents in \"about 30 countries\" being tracked by technology, top official says https://t.co/jWaSLevptq https://t.co/kK5PZdX5ny', 'Take a look at the week in politics https://t.co/uEcOFSUBXH https://t.co/IarIG4ssIc', 'China \"welcomes\" US Treasury Secretary Steven Mnuchin\\'s offer to hold trade talks in Beijing https://t.co/tWraHENxyK https://t.co/xhF41zXX2x', 'These remarks by Trump are almost verbatim to Fox News talking points https://t.co/NH6L6PeF4Z https://t.co/qmoJT60mW9', \"Avicii's family arrives in Oman as new details emerge about his death https://t.co/z12U8yRj3l https://t.co/3roBVgy09n\", 'Waffle House shooter was once arrested by Secret Service for trespassing near White House https://t.co/xr173z415S https://t.co/U4AU4X8yiT', 'This Tennessee neighborhood has had 2 mass shootings in the past 7 months https://t.co/XbcZVR0mhV https://t.co/3HfwoiP9SM', \"Why 2020 may be former New York City Mayor Michael Bloomberg's best shot at the presidency https://t.co/QwObWq4414 https://t.co/0P9iuSe1gg\", \"Michael Jackson's famous moonwalk shoes are going up for auction https://t.co/cCNinaLjAB https://t.co/wLoazXEpvX\", 'Mitt Romney says he\\'ll make decision on supporting Trump in 2020 \"down the road\" https://t.co/xgegkThQN1 https://t.co/rT9N1qknLX', 'Colin Kaepernick named Amnesty International Ambassador of Conscience https://t.co/vdKeLy75cc https://t.co/0s0ExWCTJf', '\"You don\\'t get to meet too many heroes in life, Mr. Shaw, but you are a hero. You\\'re my hero,\" the CEO of Waffle Ho… https://t.co/0ZBCbMV3nn', '\"I kinda made up my mind. ... that if it was gonna come down to it, he was gonna have to work to kill me.\" 29-year-… https://t.co/0waSSUtDvd', 'EPA chief Scott Pruitt met with lobbyist whose wife rented him a room https://t.co/oArZ6lsxWe https://t.co/z7v61KULoU', 'Outgoing Tennessee Republican Sen. Bob Corker defends his praise of the Democrat running in the race to replace him… https://t.co/4sQAFhZLSt', 'Mitt Romney fails to secure Utah GOP nomination, will face primary https://t.co/uPYMXvxV6b https://t.co/4qZN77HHjh', 'White House legislative affairs director Marc Short says President Trump remains supportive of Scott Pruitt as stor… https://t.co/C56rBJQ4Dc', '\"This isn\\'t what I would\\'ve expected for an FBI director.\" Mitt Romney says some of the disclosures made by former… https://t.co/ofDolYDdYi', '\"We are seeing that this administration is the worst for women that I\\'ve seen in my lifetime.\" Outgoing Planned Par… https://t.co/hr0ZkOCcys', \"Dear leaders: You've failed your children on climate change https://t.co/ccsx5qC9zw (via @CNNOpinion) https://t.co/1nchuwMtuI\", 'Microplastic pollution is all around us, not just in the oceans https://t.co/O4G0lzfXpF https://t.co/FcQRpbU6y6', 'Former first lady Barbara Bush’s funeral brought together approximately 1,500 mourners, including these former and… https://t.co/nDuZ9lgE6r', '\"The President has made very clear that he thinks this is an overwrought process.\" White House counselor Kellyanne… https://t.co/tQFjK57YpO', 'Facebook CEO Mark Zuckerberg survived Congress. Now he has to face Wall Street. https://t.co/7WBhjP5jue https://t.co/jdlVutPVqq', \"President Trump's meeting with North Korean leader Kim Jong Un will lead to an awful hangover, writes Jamie Metzl f… https://t.co/uTJN0hjE7f\", '5 cool, and not-so-cool things, that have happened since the last Earth Day https://t.co/ahUJeVgHGF https://t.co/4VoBJ0Zu3b', 'President Trump says US has not \"given up anything\" in North Korea talks https://t.co/SElTsNZo9m https://t.co/LvnHsRZNAU', 'Hero prevented further bloodshed at Tennessee Waffle House https://t.co/xkMenyweMs https://t.co/maU87BaDQz', 'How these hurricane-ravaged states have avoided a housing disaster — so far https://t.co/Rf5g5vxEoX https://t.co/qybhxthQvz', 'The midterm elections will be the first test of whether Republicans will pay a price for the Mitt Romney-like embra… https://t.co/evxo5aEdro', 'Beyoncé reigns at Coachella once again https://t.co/JYeR8cs0CB https://t.co/ozRgXkzoMK', 'Beyoncé and Kendrick Lamar show what it means to be \"unapologetically black\" https://t.co/nTd2Op5tiy https://t.co/LvvBk8qHaD', 'Sexual harassment is still happening \"from the boardroom to the assembly line,\" and we can’t \"rest on our laurels\"… https://t.co/D3Lr5uoMjC', 'Barbara Bush \"was candid and comforting, steadfast and straightforward, honest and loving,\" historian Jon Meacham s… https://t.co/g6hDwS1tC0', 'The Bay Area is long overdue for a major earthquake. When it hits, it could kill hundreds. https://t.co/rUird6vDr7 https://t.co/ufCfkef7hB', 'Retiring Republican Sen. Bob Corker of Tennessee says he is supporting the Republican nominee to replace him, Rep.… https://t.co/UwrrHAsrcS', 'Sen. Bob Corker on Russia: \"Our relations are at that low point, the lowest since the Cuban Missile Crisis … We sho… https://t.co/pwmU48NPlv', 'At least 10 dead in Nicaragua protests over social security changes https://t.co/eReOZvGmbS https://t.co/TV7Qy2A1Mg', \"Britain's Queen Elizabeth II celebrates 92nd birthday https://t.co/3eEpJWCGc9 https://t.co/RzYS9EqoLN\", 'Chairman of the Senate Foreign Relations Committee Bob Corker says North Korea’s claim that they are giving up the… https://t.co/SJKrJTl2qt', 'Counselor to the President Kellyanne Conway: “I’m telling you that the President’s concern has been for Michael Coh… https://t.co/FR48fFTHiX', 'Exclusive: Ads from over 300 companies and organizations — from Adidas to Amazon — ran on YouTube channels promotin… https://t.co/mnZzr6VYyl', \"Former first lady Barbara Bush's casket, carried by 8 grandsons, leaves her funeral in Houston, Texas, as her husba… https://t.co/TGxqunYbWP\", \"A new study claims that Hans Asperger, the physician for whom Asperger's syndrome was named, actively cooperated wi… https://t.co/HN6y8PZk6u\", \"Avicii songs ring out from this Dutch town's bell tower as a tribute to the Swedish artist, who was found dead Frid… https://t.co/mcWnvfWa7m\", 'A victim of the Parkland massacre used to call his mom every day. Now she hears from a student her son helped save… https://t.co/KCMGBajDrw', 'Three people were killed and four were wounded in a shooting at a Waffle House near Nashville, police say… https://t.co/Q9k4pbEEsj', 'Verne Troyer, the actor best known for playing Mini-Me in the Austin Powers films, has died. He was 49.… https://t.co/POGH4M1JKn', 'Even one drink a day could be shortening your life expectancy https://t.co/LFu3WiGjo3 https://t.co/mdBcbYcHXx', '\"Police dogs are overdosing on new narcotics they sniff out in the line of duty. ... We owe them so much more, incl… https://t.co/WoOSEPQoOg', '\"I love you, precious, with all my heart\": Read the heartwarming love letter George H.W. Bush sent to Barbara Bush… https://t.co/8rizUjGIq9', 'A suicide blast killed at least 12 people and wounded dozens more Sunday at a voter registration center in Kabul, A… https://t.co/YGy5gd2XJJ', \"Arcade Fire, Sampha and '80s group A-ha have all made their way to this remote Norwegian island. Here's why… https://t.co/gF3KEyz3np\", 'This 7-year-old girl was the only student at an Alexandria, Virginia, elementary school to participate when student… https://t.co/g53x2FfbQB', 'What happens to planes when they retire? https://t.co/bLaOXpQxNB https://t.co/J5NqwTrNfB', 'California man fatally stabbed while dining with his daughter on his lap, police say https://t.co/vSjzRiTJIP', 'Want to live out your Game of Thrones fantasies? This is the Snow Wall Walk -- a corridor in Japan featuring walls… https://t.co/byzSrrSkby', \"Here's the rundown for all new episodes of Anthony Bourdain #PartsUnknown! We’re kicking things off in the heart of… https://t.co/ubw8Y7miLX\", '\"She has nerves of steel. That lady, I applaud her. I\\'m going to send her a Christmas card, I\\'m going to tell you t… https://t.co/0FHX3cPGwm', 'China is beating the United States in the race for 5G https://t.co/DoGGX1sZ9X https://t.co/10SIgJA8Jq', 'A surgical hole has been found in a Stone Age cow skull, researchers say https://t.co/z9epofmFkv https://t.co/Yk3eH33ZSx', 'Tired of waiting for electricity in Puerto Rico, this man decided to build his own solar power system… https://t.co/C3KJgebsmo', \"Kendrick Lamar's Pulitzer is a thumb in the eye of President Trump, writes Clay Cane for @CNNOpinion… https://t.co/2Gbkh0uneR\", 'A 13-year-old boy has helped unearth treasure of a 10th century Danish king https://t.co/oeJ7aFw2kX via @CNNStyle https://t.co/TfFwzlroYK', \"We shouldn't be surprised that Southwest's hero pilot is a woman | @CNNOpinion https://t.co/3DTDd4bPVL https://t.co/8m5HFRaLSs\", \"How Barbara Bush tried to save Jeb's campaign https://t.co/xYNB0xmxth https://t.co/wHdfmKDgen\", 'Deputy who shot unarmed black man in Houston is fired https://t.co/vxHpZ7sgMF https://t.co/g26Z3mlIwC', 'Al Franken to make first public appearance since leaving Senate over sexual harassment allegations… https://t.co/twEGzNeiW2', 'Universal SIM card rollout faces another hurdle https://t.co/xWgv4i25hx https://t.co/GEAVOueh6X', 'Red Cross employee killed in an attack in Yemen https://t.co/pEersSa7Fw https://t.co/SOu2W0SZ3k', 'President Trump mocks Democrats for their lawsuit against his presidential campaign and suggests Republicans could… https://t.co/j3vkFigyNK', 'President Trump considering pardon for boxer Jack Johnson https://t.co/Vxf9PpJzIv https://t.co/mbbMyyrWOM', '\"I\\'m so grateful I got to know Prince- the man, the mentor, the big brother\": Two years after the singer\\'s death, a… https://t.co/7A9iJVLHh7', 'EPA chief Scott Pruitt purchased a house in 2003 from a retiring lobbyist through a shell company registered to a b… https://t.co/cBBt4gq7lw', '\"This administration is the worst for women that I\\'ve seen in my lifetime,\" Planned Parenthood President Cecile Ric… https://t.co/6ITHDO2SOh', '\"If Trump fires Mueller that is obstruction of justice and to my mind that is an impeachable offense,\" Sen. Bernie… https://t.co/0ZNsQSiEqC', 'Sen. Bernie Sanders slams Trump\\'s treatment of Dreamers: \"We have this guy in the White House right now who wants t… https://t.co/TdnzVgsKUn', 'Syracuse University expels fraternity involved in racist video https://t.co/A4Pc2rhBBO https://t.co/VdbuLOl85M', '\"Money was always a struggle ... I never forgot what it was like to be in a family that struggles financially,\" Sen… https://t.co/21DvvCBipj', 'Marriage is such a big issue in China that parents can resort to extreme measures to find their children a spouse.… https://t.co/BwGsOkBJFR', 'House Majority Whip Steve Scalise released from hospital after \"successful\" surgery https://t.co/9t9tuZy0a0 https://t.co/dS4UBPqz9M', 'This 7-year-old girl was the only student at an Alexandria, Virginia, elementary school to participate when student… https://t.co/BE6sLBdtvJ', 'First lady Melania Trump is planning a state dinner for French President Emmanuel Macron and his wife, Brigitte. Fr… https://t.co/3reSh2LcGU', 'Inspectors visit site of suspected chemical attack in Syria after delays https://t.co/fAYn0PhW8S https://t.co/MY4lExBxh1']})\n"
     ]
    }
   ],
   "source": [
    "main()"
   ]
  },
  {
   "cell_type": "code",
   "execution_count": null,
   "metadata": {},
   "outputs": [],
   "source": []
  }
 ],
 "metadata": {
  "kernelspec": {
   "display_name": "Python [conda env:PythonData]",
   "language": "python",
   "name": "conda-env-PythonData-py"
  },
  "language_info": {
   "codemirror_mode": {
    "name": "ipython",
    "version": 3
   },
   "file_extension": ".py",
   "mimetype": "text/x-python",
   "name": "python",
   "nbconvert_exporter": "python",
   "pygments_lexer": "ipython3",
   "version": "3.6.4"
  }
 },
 "nbformat": 4,
 "nbformat_minor": 2
}
