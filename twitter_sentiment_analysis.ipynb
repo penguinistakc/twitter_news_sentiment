{
 "cells": [
  {
   "cell_type": "code",
   "execution_count": 18,
   "metadata": {},
   "outputs": [],
   "source": [
    "# Dependencies\n",
    "import tweepy\n",
    "import twitter_service as ts\n",
    "from collections import defaultdict\n",
    "from config import consumer_key, consumer_secret, access_token, access_token_secret\n",
    "import pandas as pd\n",
    "\n",
    "# Import and Initialize Sentiment Analyzer\n",
    "from vaderSentiment.vaderSentiment import SentimentIntensityAnalyzer\n",
    "analyzer = SentimentIntensityAnalyzer()"
   ]
  },
  {
   "cell_type": "code",
   "execution_count": 19,
   "metadata": {},
   "outputs": [],
   "source": [
    "# Twitter API Keys\n",
    "consumer_key = consumer_key\n",
    "consumer_secret = consumer_secret\n",
    "access_token = access_token\n",
    "access_token_secret = access_token_secret\n"
   ]
  },
  {
   "cell_type": "code",
   "execution_count": 20,
   "metadata": {},
   "outputs": [],
   "source": [
    "def main():\n",
    "    # Counter\n",
    "    #counter = 1\n",
    "    \n",
    "    handles = ['@CNN', '@BBCWorld', '@FoxNews', '@CBSNews', '@nytimes']\n",
    "\n",
    "    # Variables for holding sentiments\n",
    "    sentiments = defaultdict(list)\n",
    "\n",
    "    # Variable for max_id\n",
    "    oldest_tweet = None\n",
    "    \n",
    "    api = ts.setup_connection(consumer_key, consumer_secret, access_token, access_token_secret)\n",
    "    \n",
    "    for handle in handles:\n",
    "        public_tweets = ts.grab_tweets(api, handle, 100)\n",
    "        for index, tweet in enumerate(public_tweets):\n",
    "            # Run Vader Analysis on each tweet\n",
    "            results = analyze_tweets(tweet)\n",
    "            sentiments[\"Handle\"].append(tweet[\"user\"][\"screen_name\"])\n",
    "            sentiments[\"Date\"].append(tweet[\"created_at\"])\n",
    "            sentiments[\"Compound\"].append(results[\"compound\"])\n",
    "            sentiments[\"Positive\"].append(results[\"pos\"])\n",
    "            sentiments[\"Neutral\"].append(results[\"neu\"])\n",
    "            sentiments[\"Negative\"].append(results[\"neg\"])\n",
    "            sentiments[\"Tweets Ago\"].append(index + 1)\n",
    "            sentiments[\"Tweet Text\"].append(tweet[\"text\"])\n",
    "    \n",
    "    tweet_sentiment_df = create_dataframe(sentiments)\n",
    "    #print(sentiments)\n",
    "    \n",
    "    "
   ]
  },
  {
   "cell_type": "code",
   "execution_count": 21,
   "metadata": {},
   "outputs": [],
   "source": [
    "def analyze_tweets(tweet):\n",
    "    # Run Vader Analysis on each tweet\n",
    "    return analyzer.polarity_scores(tweet[\"text\"])\n",
    "        "
   ]
  },
  {
   "cell_type": "code",
   "execution_count": 22,
   "metadata": {},
   "outputs": [],
   "source": [
    "def create_dataframe(data):\n",
    "    return pd.DataFrame(data)"
   ]
  },
  {
   "cell_type": "code",
   "execution_count": 23,
   "metadata": {},
   "outputs": [
    {
     "name": "stdout",
     "output_type": "stream",
     "text": [
      "setting up connection...\n",
      "grabbing your tweets...\n",
      "grabbing your tweets...\n",
      "grabbing your tweets...\n",
      "grabbing your tweets...\n",
      "grabbing your tweets...\n"
     ]
    }
   ],
   "source": [
    "main()"
   ]
  },
  {
   "cell_type": "code",
   "execution_count": 24,
   "metadata": {},
   "outputs": [
    {
     "ename": "NameError",
     "evalue": "name 'tweet_sentiment_df' is not defined",
     "output_type": "error",
     "traceback": [
      "\u001b[0;31m---------------------------------------------------------------------------\u001b[0m",
      "\u001b[0;31mNameError\u001b[0m                                 Traceback (most recent call last)",
      "\u001b[0;32m<ipython-input-24-fdc21fa6f35b>\u001b[0m in \u001b[0;36m<module>\u001b[0;34m()\u001b[0m\n\u001b[0;32m----> 1\u001b[0;31m \u001b[0mtweet_sentiment_df\u001b[0m\u001b[0;34m\u001b[0m\u001b[0m\n\u001b[0m",
      "\u001b[0;31mNameError\u001b[0m: name 'tweet_sentiment_df' is not defined"
     ]
    }
   ],
   "source": []
  },
  {
   "cell_type": "code",
   "execution_count": null,
   "metadata": {},
   "outputs": [],
   "source": []
  }
 ],
 "metadata": {
  "kernelspec": {
   "display_name": "Python [conda env:PythonData]",
   "language": "python",
   "name": "conda-env-PythonData-py"
  },
  "language_info": {
   "codemirror_mode": {
    "name": "ipython",
    "version": 3
   },
   "file_extension": ".py",
   "mimetype": "text/x-python",
   "name": "python",
   "nbconvert_exporter": "python",
   "pygments_lexer": "ipython3",
   "version": "3.6.4"
  }
 },
 "nbformat": 4,
 "nbformat_minor": 2
}
